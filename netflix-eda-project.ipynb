{
 "cells": [
  {
   "cell_type": "code",
   "execution_count": 2,
   "id": "1ced9ce1",
   "metadata": {
    "execution": {
     "iopub.execute_input": "2022-07-15T16:22:14.589396Z",
     "iopub.status.busy": "2022-07-15T16:22:14.588921Z",
     "iopub.status.idle": "2022-07-15T16:22:15.878551Z",
     "shell.execute_reply": "2022-07-15T16:22:15.877492Z"
    },
    "papermill": {
     "duration": 1.304802,
     "end_time": "2022-07-15T16:22:15.881521",
     "exception": false,
     "start_time": "2022-07-15T16:22:14.576719",
     "status": "completed"
    },
    "tags": []
   },
   "outputs": [],
   "source": [
    "import numpy as np\n",
    "import pandas as pd\n",
    "import seaborn as sns\n",
    "from matplotlib import pyplot as plt"
   ]
  },
  {
   "cell_type": "code",
   "execution_count": 8,
   "id": "740a8dcc",
   "metadata": {
    "execution": {
     "iopub.execute_input": "2022-07-15T16:22:15.901185Z",
     "iopub.status.busy": "2022-07-15T16:22:15.900522Z",
     "iopub.status.idle": "2022-07-15T16:22:16.068453Z",
     "shell.execute_reply": "2022-07-15T16:22:16.067129Z"
    },
    "papermill": {
     "duration": 0.181315,
     "end_time": "2022-07-15T16:22:16.071700",
     "exception": false,
     "start_time": "2022-07-15T16:22:15.890385",
     "status": "completed"
    },
    "tags": []
   },
   "outputs": [],
   "source": [
    "netflix = pd.read_csv(\"Data/netflix_titles.csv\")\n"
   ]
  },
  {
   "cell_type": "code",
   "execution_count": 9,
   "id": "18857ee0",
   "metadata": {
    "execution": {
     "iopub.execute_input": "2022-07-15T16:22:16.091696Z",
     "iopub.status.busy": "2022-07-15T16:22:16.091224Z",
     "iopub.status.idle": "2022-07-15T16:22:16.127892Z",
     "shell.execute_reply": "2022-07-15T16:22:16.126624Z"
    },
    "papermill": {
     "duration": 0.050842,
     "end_time": "2022-07-15T16:22:16.131716",
     "exception": false,
     "start_time": "2022-07-15T16:22:16.080874",
     "status": "completed"
    },
    "tags": []
   },
   "outputs": [
    {
     "name": "stdout",
     "output_type": "stream",
     "text": [
      "<class 'pandas.core.frame.DataFrame'>\n",
      "RangeIndex: 8807 entries, 0 to 8806\n",
      "Data columns (total 12 columns):\n",
      " #   Column        Non-Null Count  Dtype \n",
      "---  ------        --------------  ----- \n",
      " 0   show_id       8807 non-null   object\n",
      " 1   type          8807 non-null   object\n",
      " 2   title         8807 non-null   object\n",
      " 3   director      6173 non-null   object\n",
      " 4   cast          7982 non-null   object\n",
      " 5   country       7976 non-null   object\n",
      " 6   date_added    8797 non-null   object\n",
      " 7   release_year  8807 non-null   int64 \n",
      " 8   rating        8803 non-null   object\n",
      " 9   duration      8804 non-null   object\n",
      " 10  listed_in     8807 non-null   object\n",
      " 11  description   8807 non-null   object\n",
      "dtypes: int64(1), object(11)\n",
      "memory usage: 825.8+ KB\n"
     ]
    }
   ],
   "source": [
    "netflix.info()"
   ]
  },
  {
   "cell_type": "code",
   "execution_count": 4,
   "id": "3b43baab",
   "metadata": {
    "execution": {
     "iopub.execute_input": "2022-07-15T16:22:16.152440Z",
     "iopub.status.busy": "2022-07-15T16:22:16.151279Z",
     "iopub.status.idle": "2022-07-15T16:22:16.175701Z",
     "shell.execute_reply": "2022-07-15T16:22:16.174398Z"
    },
    "papermill": {
     "duration": 0.037077,
     "end_time": "2022-07-15T16:22:16.178029",
     "exception": false,
     "start_time": "2022-07-15T16:22:16.140952",
     "status": "completed"
    },
    "tags": []
   },
   "outputs": [
    {
     "data": {
      "text/html": [
       "<div>\n",
       "<style scoped>\n",
       "    .dataframe tbody tr th:only-of-type {\n",
       "        vertical-align: middle;\n",
       "    }\n",
       "\n",
       "    .dataframe tbody tr th {\n",
       "        vertical-align: top;\n",
       "    }\n",
       "\n",
       "    .dataframe thead th {\n",
       "        text-align: right;\n",
       "    }\n",
       "</style>\n",
       "<table border=\"1\" class=\"dataframe\">\n",
       "  <thead>\n",
       "    <tr style=\"text-align: right;\">\n",
       "      <th></th>\n",
       "      <th>release_year</th>\n",
       "    </tr>\n",
       "  </thead>\n",
       "  <tbody>\n",
       "    <tr>\n",
       "      <th>count</th>\n",
       "      <td>8807.000000</td>\n",
       "    </tr>\n",
       "    <tr>\n",
       "      <th>mean</th>\n",
       "      <td>2014.180198</td>\n",
       "    </tr>\n",
       "    <tr>\n",
       "      <th>std</th>\n",
       "      <td>8.819312</td>\n",
       "    </tr>\n",
       "    <tr>\n",
       "      <th>min</th>\n",
       "      <td>1925.000000</td>\n",
       "    </tr>\n",
       "    <tr>\n",
       "      <th>25%</th>\n",
       "      <td>2013.000000</td>\n",
       "    </tr>\n",
       "    <tr>\n",
       "      <th>50%</th>\n",
       "      <td>2017.000000</td>\n",
       "    </tr>\n",
       "    <tr>\n",
       "      <th>75%</th>\n",
       "      <td>2019.000000</td>\n",
       "    </tr>\n",
       "    <tr>\n",
       "      <th>max</th>\n",
       "      <td>2021.000000</td>\n",
       "    </tr>\n",
       "  </tbody>\n",
       "</table>\n",
       "</div>"
      ],
      "text/plain": [
       "       release_year\n",
       "count   8807.000000\n",
       "mean    2014.180198\n",
       "std        8.819312\n",
       "min     1925.000000\n",
       "25%     2013.000000\n",
       "50%     2017.000000\n",
       "75%     2019.000000\n",
       "max     2021.000000"
      ]
     },
     "execution_count": 4,
     "metadata": {},
     "output_type": "execute_result"
    }
   ],
   "source": [
    "netflix.describe()"
   ]
  },
  {
   "cell_type": "code",
   "execution_count": 5,
   "id": "1e3dad35",
   "metadata": {
    "execution": {
     "iopub.execute_input": "2022-07-15T16:22:16.199511Z",
     "iopub.status.busy": "2022-07-15T16:22:16.198299Z",
     "iopub.status.idle": "2022-07-15T16:22:16.213171Z",
     "shell.execute_reply": "2022-07-15T16:22:16.212331Z"
    },
    "papermill": {
     "duration": 0.028271,
     "end_time": "2022-07-15T16:22:16.215227",
     "exception": false,
     "start_time": "2022-07-15T16:22:16.186956",
     "status": "completed"
    },
    "tags": []
   },
   "outputs": [
    {
     "data": {
      "text/plain": [
       "show_id            0\n",
       "type               0\n",
       "title              0\n",
       "director        2634\n",
       "cast             825\n",
       "country          831\n",
       "date_added        10\n",
       "release_year       0\n",
       "rating             4\n",
       "duration           3\n",
       "listed_in          0\n",
       "description        0\n",
       "dtype: int64"
      ]
     },
     "execution_count": 5,
     "metadata": {},
     "output_type": "execute_result"
    }
   ],
   "source": [
    "netflix.isnull().sum()"
   ]
  },
  {
   "cell_type": "code",
   "execution_count": 6,
   "id": "b34a0058",
   "metadata": {
    "execution": {
     "iopub.execute_input": "2022-07-15T16:22:16.236139Z",
     "iopub.status.busy": "2022-07-15T16:22:16.235128Z",
     "iopub.status.idle": "2022-07-15T16:22:16.245305Z",
     "shell.execute_reply": "2022-07-15T16:22:16.244502Z"
    },
    "papermill": {
     "duration": 0.022753,
     "end_time": "2022-07-15T16:22:16.247559",
     "exception": false,
     "start_time": "2022-07-15T16:22:16.224806",
     "status": "completed"
    },
    "tags": []
   },
   "outputs": [
    {
     "data": {
      "text/plain": [
       "0       Kirsten Johnson\n",
       "1               Unknown\n",
       "2       Julien Leclercq\n",
       "3               Unknown\n",
       "4               Unknown\n",
       "             ...       \n",
       "8802      David Fincher\n",
       "8803            Unknown\n",
       "8804    Ruben Fleischer\n",
       "8805       Peter Hewitt\n",
       "8806        Mozez Singh\n",
       "Name: director, Length: 8807, dtype: object"
      ]
     },
     "execution_count": 6,
     "metadata": {},
     "output_type": "execute_result"
    }
   ],
   "source": [
    "netflix.director.fillna(value=\"Unknown\",inplace=True)\n",
    "netflix.director"
   ]
  },
  {
   "cell_type": "code",
   "execution_count": 7,
   "id": "30674e3c",
   "metadata": {
    "execution": {
     "iopub.execute_input": "2022-07-15T16:22:16.268675Z",
     "iopub.status.busy": "2022-07-15T16:22:16.267894Z",
     "iopub.status.idle": "2022-07-15T16:22:16.278218Z",
     "shell.execute_reply": "2022-07-15T16:22:16.276997Z"
    },
    "papermill": {
     "duration": 0.023895,
     "end_time": "2022-07-15T16:22:16.280827",
     "exception": false,
     "start_time": "2022-07-15T16:22:16.256932",
     "status": "completed"
    },
    "tags": []
   },
   "outputs": [
    {
     "data": {
      "text/plain": [
       "0                                                 Unknown\n",
       "1       Ama Qamata, Khosi Ngema, Gail Mabalane, Thaban...\n",
       "2       Sami Bouajila, Tracy Gotoas, Samuel Jouy, Nabi...\n",
       "3                                                 Unknown\n",
       "4       Mayur More, Jitendra Kumar, Ranjan Raj, Alam K...\n",
       "                              ...                        \n",
       "8802    Mark Ruffalo, Jake Gyllenhaal, Robert Downey J...\n",
       "8803                                              Unknown\n",
       "8804    Jesse Eisenberg, Woody Harrelson, Emma Stone, ...\n",
       "8805    Tim Allen, Courteney Cox, Chevy Chase, Kate Ma...\n",
       "8806    Vicky Kaushal, Sarah-Jane Dias, Raaghav Chanan...\n",
       "Name: cast, Length: 8807, dtype: object"
      ]
     },
     "execution_count": 7,
     "metadata": {},
     "output_type": "execute_result"
    }
   ],
   "source": [
    "netflix.cast.fillna(value=\"Unknown\",inplace=True)\n",
    "netflix.cast"
   ]
  },
  {
   "cell_type": "code",
   "execution_count": 8,
   "id": "c61966e5",
   "metadata": {
    "execution": {
     "iopub.execute_input": "2022-07-15T16:22:16.304012Z",
     "iopub.status.busy": "2022-07-15T16:22:16.303141Z",
     "iopub.status.idle": "2022-07-15T16:22:16.312438Z",
     "shell.execute_reply": "2022-07-15T16:22:16.311528Z"
    },
    "papermill": {
     "duration": 0.023321,
     "end_time": "2022-07-15T16:22:16.314632",
     "exception": false,
     "start_time": "2022-07-15T16:22:16.291311",
     "status": "completed"
    },
    "tags": []
   },
   "outputs": [
    {
     "data": {
      "text/plain": [
       "0       United States\n",
       "1        South Africa\n",
       "2             Unknown\n",
       "3             Unknown\n",
       "4               India\n",
       "            ...      \n",
       "8802    United States\n",
       "8803          Unknown\n",
       "8804    United States\n",
       "8805    United States\n",
       "8806            India\n",
       "Name: country, Length: 8807, dtype: object"
      ]
     },
     "execution_count": 8,
     "metadata": {},
     "output_type": "execute_result"
    }
   ],
   "source": [
    "netflix.country.fillna(value=\"Unknown\",inplace=True)\n",
    "netflix.country"
   ]
  },
  {
   "cell_type": "code",
   "execution_count": 9,
   "id": "f26e50a9",
   "metadata": {
    "execution": {
     "iopub.execute_input": "2022-07-15T16:22:16.336796Z",
     "iopub.status.busy": "2022-07-15T16:22:16.336024Z",
     "iopub.status.idle": "2022-07-15T16:22:16.346000Z",
     "shell.execute_reply": "2022-07-15T16:22:16.344804Z"
    },
    "papermill": {
     "duration": 0.024353,
     "end_time": "2022-07-15T16:22:16.348579",
     "exception": false,
     "start_time": "2022-07-15T16:22:16.324226",
     "status": "completed"
    },
    "tags": []
   },
   "outputs": [
    {
     "data": {
      "text/plain": [
       "0       September 25, 2021\n",
       "1       September 24, 2021\n",
       "2       September 24, 2021\n",
       "3       September 24, 2021\n",
       "4       September 24, 2021\n",
       "               ...        \n",
       "8802     November 20, 2019\n",
       "8803          July 1, 2019\n",
       "8804      November 1, 2019\n",
       "8805      January 11, 2020\n",
       "8806         March 2, 2019\n",
       "Name: date_added, Length: 8807, dtype: object"
      ]
     },
     "execution_count": 9,
     "metadata": {},
     "output_type": "execute_result"
    }
   ],
   "source": [
    "netflix.date_added.fillna(value=\"Unknown\",inplace=True)\n",
    "netflix.date_added"
   ]
  },
  {
   "cell_type": "code",
   "execution_count": 10,
   "id": "8ed36f74",
   "metadata": {
    "execution": {
     "iopub.execute_input": "2022-07-15T16:22:16.371120Z",
     "iopub.status.busy": "2022-07-15T16:22:16.370659Z",
     "iopub.status.idle": "2022-07-15T16:22:16.389254Z",
     "shell.execute_reply": "2022-07-15T16:22:16.387745Z"
    },
    "papermill": {
     "duration": 0.033355,
     "end_time": "2022-07-15T16:22:16.392024",
     "exception": false,
     "start_time": "2022-07-15T16:22:16.358669",
     "status": "completed"
    },
    "scrolled": true,
    "tags": []
   },
   "outputs": [
    {
     "data": {
      "text/html": [
       "<div>\n",
       "<style scoped>\n",
       "    .dataframe tbody tr th:only-of-type {\n",
       "        vertical-align: middle;\n",
       "    }\n",
       "\n",
       "    .dataframe tbody tr th {\n",
       "        vertical-align: top;\n",
       "    }\n",
       "\n",
       "    .dataframe thead th {\n",
       "        text-align: right;\n",
       "    }\n",
       "</style>\n",
       "<table border=\"1\" class=\"dataframe\">\n",
       "  <thead>\n",
       "    <tr style=\"text-align: right;\">\n",
       "      <th></th>\n",
       "      <th>show_id</th>\n",
       "      <th>type</th>\n",
       "      <th>title</th>\n",
       "      <th>director</th>\n",
       "      <th>cast</th>\n",
       "      <th>country</th>\n",
       "      <th>date_added</th>\n",
       "      <th>release_year</th>\n",
       "      <th>rating</th>\n",
       "      <th>duration</th>\n",
       "      <th>listed_in</th>\n",
       "      <th>description</th>\n",
       "    </tr>\n",
       "  </thead>\n",
       "  <tbody>\n",
       "    <tr>\n",
       "      <th>0</th>\n",
       "      <td>s1</td>\n",
       "      <td>Movie</td>\n",
       "      <td>Dick Johnson Is Dead</td>\n",
       "      <td>Kirsten Johnson</td>\n",
       "      <td>Unknown</td>\n",
       "      <td>United States</td>\n",
       "      <td>September 25, 2021</td>\n",
       "      <td>2020</td>\n",
       "      <td>PG-13</td>\n",
       "      <td>90 min</td>\n",
       "      <td>Documentaries</td>\n",
       "      <td>As her father nears the end of his life, filmm...</td>\n",
       "    </tr>\n",
       "    <tr>\n",
       "      <th>1</th>\n",
       "      <td>s2</td>\n",
       "      <td>TV Show</td>\n",
       "      <td>Blood &amp; Water</td>\n",
       "      <td>Unknown</td>\n",
       "      <td>Ama Qamata, Khosi Ngema, Gail Mabalane, Thaban...</td>\n",
       "      <td>South Africa</td>\n",
       "      <td>September 24, 2021</td>\n",
       "      <td>2021</td>\n",
       "      <td>TV-MA</td>\n",
       "      <td>2 Seasons</td>\n",
       "      <td>International TV Shows, TV Dramas, TV Mysteries</td>\n",
       "      <td>After crossing paths at a party, a Cape Town t...</td>\n",
       "    </tr>\n",
       "    <tr>\n",
       "      <th>2</th>\n",
       "      <td>s3</td>\n",
       "      <td>TV Show</td>\n",
       "      <td>Ganglands</td>\n",
       "      <td>Julien Leclercq</td>\n",
       "      <td>Sami Bouajila, Tracy Gotoas, Samuel Jouy, Nabi...</td>\n",
       "      <td>Unknown</td>\n",
       "      <td>September 24, 2021</td>\n",
       "      <td>2021</td>\n",
       "      <td>TV-MA</td>\n",
       "      <td>1 Season</td>\n",
       "      <td>Crime TV Shows, International TV Shows, TV Act...</td>\n",
       "      <td>To protect his family from a powerful drug lor...</td>\n",
       "    </tr>\n",
       "    <tr>\n",
       "      <th>3</th>\n",
       "      <td>s4</td>\n",
       "      <td>TV Show</td>\n",
       "      <td>Jailbirds New Orleans</td>\n",
       "      <td>Unknown</td>\n",
       "      <td>Unknown</td>\n",
       "      <td>Unknown</td>\n",
       "      <td>September 24, 2021</td>\n",
       "      <td>2021</td>\n",
       "      <td>TV-MA</td>\n",
       "      <td>1 Season</td>\n",
       "      <td>Docuseries, Reality TV</td>\n",
       "      <td>Feuds, flirtations and toilet talk go down amo...</td>\n",
       "    </tr>\n",
       "    <tr>\n",
       "      <th>4</th>\n",
       "      <td>s5</td>\n",
       "      <td>TV Show</td>\n",
       "      <td>Kota Factory</td>\n",
       "      <td>Unknown</td>\n",
       "      <td>Mayur More, Jitendra Kumar, Ranjan Raj, Alam K...</td>\n",
       "      <td>India</td>\n",
       "      <td>September 24, 2021</td>\n",
       "      <td>2021</td>\n",
       "      <td>TV-MA</td>\n",
       "      <td>2 Seasons</td>\n",
       "      <td>International TV Shows, Romantic TV Shows, TV ...</td>\n",
       "      <td>In a city of coaching centers known to train I...</td>\n",
       "    </tr>\n",
       "  </tbody>\n",
       "</table>\n",
       "</div>"
      ],
      "text/plain": [
       "  show_id     type                  title         director  \\\n",
       "0      s1    Movie   Dick Johnson Is Dead  Kirsten Johnson   \n",
       "1      s2  TV Show          Blood & Water          Unknown   \n",
       "2      s3  TV Show              Ganglands  Julien Leclercq   \n",
       "3      s4  TV Show  Jailbirds New Orleans          Unknown   \n",
       "4      s5  TV Show           Kota Factory          Unknown   \n",
       "\n",
       "                                                cast        country  \\\n",
       "0                                            Unknown  United States   \n",
       "1  Ama Qamata, Khosi Ngema, Gail Mabalane, Thaban...   South Africa   \n",
       "2  Sami Bouajila, Tracy Gotoas, Samuel Jouy, Nabi...        Unknown   \n",
       "3                                            Unknown        Unknown   \n",
       "4  Mayur More, Jitendra Kumar, Ranjan Raj, Alam K...          India   \n",
       "\n",
       "           date_added  release_year rating   duration  \\\n",
       "0  September 25, 2021          2020  PG-13     90 min   \n",
       "1  September 24, 2021          2021  TV-MA  2 Seasons   \n",
       "2  September 24, 2021          2021  TV-MA   1 Season   \n",
       "3  September 24, 2021          2021  TV-MA   1 Season   \n",
       "4  September 24, 2021          2021  TV-MA  2 Seasons   \n",
       "\n",
       "                                           listed_in  \\\n",
       "0                                      Documentaries   \n",
       "1    International TV Shows, TV Dramas, TV Mysteries   \n",
       "2  Crime TV Shows, International TV Shows, TV Act...   \n",
       "3                             Docuseries, Reality TV   \n",
       "4  International TV Shows, Romantic TV Shows, TV ...   \n",
       "\n",
       "                                         description  \n",
       "0  As her father nears the end of his life, filmm...  \n",
       "1  After crossing paths at a party, a Cape Town t...  \n",
       "2  To protect his family from a powerful drug lor...  \n",
       "3  Feuds, flirtations and toilet talk go down amo...  \n",
       "4  In a city of coaching centers known to train I...  "
      ]
     },
     "execution_count": 10,
     "metadata": {},
     "output_type": "execute_result"
    }
   ],
   "source": [
    "netflix.head()"
   ]
  },
  {
   "cell_type": "code",
   "execution_count": 11,
   "id": "483210ce",
   "metadata": {
    "execution": {
     "iopub.execute_input": "2022-07-15T16:22:16.414009Z",
     "iopub.status.busy": "2022-07-15T16:22:16.413593Z",
     "iopub.status.idle": "2022-07-15T16:22:16.429891Z",
     "shell.execute_reply": "2022-07-15T16:22:16.428732Z"
    },
    "papermill": {
     "duration": 0.030771,
     "end_time": "2022-07-15T16:22:16.432987",
     "exception": false,
     "start_time": "2022-07-15T16:22:16.402216",
     "status": "completed"
    },
    "scrolled": true,
    "tags": []
   },
   "outputs": [
    {
     "data": {
      "text/plain": [
       "show_id         0\n",
       "type            0\n",
       "title           0\n",
       "director        0\n",
       "cast            0\n",
       "country         0\n",
       "date_added      0\n",
       "release_year    0\n",
       "rating          4\n",
       "duration        3\n",
       "listed_in       0\n",
       "description     0\n",
       "dtype: int64"
      ]
     },
     "execution_count": 11,
     "metadata": {},
     "output_type": "execute_result"
    }
   ],
   "source": [
    "netflix.isnull().sum()"
   ]
  },
  {
   "cell_type": "code",
   "execution_count": 12,
   "id": "d7029d1b",
   "metadata": {
    "execution": {
     "iopub.execute_input": "2022-07-15T16:22:16.455191Z",
     "iopub.status.busy": "2022-07-15T16:22:16.454777Z",
     "iopub.status.idle": "2022-07-15T16:22:16.471990Z",
     "shell.execute_reply": "2022-07-15T16:22:16.470706Z"
    },
    "papermill": {
     "duration": 0.031586,
     "end_time": "2022-07-15T16:22:16.474660",
     "exception": false,
     "start_time": "2022-07-15T16:22:16.443074",
     "status": "completed"
    },
    "tags": []
   },
   "outputs": [],
   "source": [
    "netflix.dropna(inplace=True)"
   ]
  },
  {
   "cell_type": "code",
   "execution_count": 13,
   "id": "e0098978",
   "metadata": {
    "execution": {
     "iopub.execute_input": "2022-07-15T16:22:16.496898Z",
     "iopub.status.busy": "2022-07-15T16:22:16.496446Z",
     "iopub.status.idle": "2022-07-15T16:22:16.510503Z",
     "shell.execute_reply": "2022-07-15T16:22:16.509613Z"
    },
    "papermill": {
     "duration": 0.027917,
     "end_time": "2022-07-15T16:22:16.512686",
     "exception": false,
     "start_time": "2022-07-15T16:22:16.484769",
     "status": "completed"
    },
    "tags": []
   },
   "outputs": [
    {
     "data": {
      "text/plain": [
       "show_id         0\n",
       "type            0\n",
       "title           0\n",
       "director        0\n",
       "cast            0\n",
       "country         0\n",
       "date_added      0\n",
       "release_year    0\n",
       "rating          0\n",
       "duration        0\n",
       "listed_in       0\n",
       "description     0\n",
       "dtype: int64"
      ]
     },
     "execution_count": 13,
     "metadata": {},
     "output_type": "execute_result"
    }
   ],
   "source": [
    "netflix.isnull().sum()"
   ]
  },
  {
   "cell_type": "code",
   "execution_count": 14,
   "id": "bfeb25d9",
   "metadata": {
    "execution": {
     "iopub.execute_input": "2022-07-15T16:22:16.535180Z",
     "iopub.status.busy": "2022-07-15T16:22:16.533867Z",
     "iopub.status.idle": "2022-07-15T16:22:16.542965Z",
     "shell.execute_reply": "2022-07-15T16:22:16.541969Z"
    },
    "papermill": {
     "duration": 0.022181,
     "end_time": "2022-07-15T16:22:16.544889",
     "exception": false,
     "start_time": "2022-07-15T16:22:16.522708",
     "status": "completed"
    },
    "tags": []
   },
   "outputs": [
    {
     "data": {
      "text/plain": [
       "TV-MA       3207\n",
       "TV-14       2160\n",
       "TV-PG        863\n",
       "R            799\n",
       "PG-13        490\n",
       "TV-Y7        334\n",
       "TV-Y         307\n",
       "PG           287\n",
       "TV-G         220\n",
       "NR            80\n",
       "G             41\n",
       "TV-Y7-FV       6\n",
       "NC-17          3\n",
       "UR             3\n",
       "Name: rating, dtype: int64"
      ]
     },
     "execution_count": 14,
     "metadata": {},
     "output_type": "execute_result"
    }
   ],
   "source": [
    "netflix.rating.value_counts()"
   ]
  },
  {
   "cell_type": "code",
   "execution_count": 15,
   "id": "605ebc6d",
   "metadata": {
    "execution": {
     "iopub.execute_input": "2022-07-15T16:22:16.567720Z",
     "iopub.status.busy": "2022-07-15T16:22:16.566491Z",
     "iopub.status.idle": "2022-07-15T16:22:16.575526Z",
     "shell.execute_reply": "2022-07-15T16:22:16.574687Z"
    },
    "papermill": {
     "duration": 0.022754,
     "end_time": "2022-07-15T16:22:16.577505",
     "exception": false,
     "start_time": "2022-07-15T16:22:16.554751",
     "status": "completed"
    },
    "tags": []
   },
   "outputs": [
    {
     "data": {
      "text/plain": [
       "Movie      6126\n",
       "TV Show    2674\n",
       "Name: type, dtype: int64"
      ]
     },
     "execution_count": 15,
     "metadata": {},
     "output_type": "execute_result"
    }
   ],
   "source": [
    "netflix.type.value_counts()"
   ]
  },
  {
   "cell_type": "code",
   "execution_count": 16,
   "id": "a75d880a",
   "metadata": {
    "execution": {
     "iopub.execute_input": "2022-07-15T16:22:16.600305Z",
     "iopub.status.busy": "2022-07-15T16:22:16.599610Z",
     "iopub.status.idle": "2022-07-15T16:22:16.607130Z",
     "shell.execute_reply": "2022-07-15T16:22:16.606201Z"
    },
    "papermill": {
     "duration": 0.021614,
     "end_time": "2022-07-15T16:22:16.609246",
     "exception": false,
     "start_time": "2022-07-15T16:22:16.587632",
     "status": "completed"
    },
    "tags": []
   },
   "outputs": [
    {
     "data": {
      "text/plain": [
       "Index(['Movie', 'TV Show'], dtype='object')"
      ]
     },
     "execution_count": 16,
     "metadata": {},
     "output_type": "execute_result"
    }
   ],
   "source": [
    "netflix.type.value_counts().index"
   ]
  },
  {
   "cell_type": "code",
   "execution_count": 17,
   "id": "482deb54",
   "metadata": {
    "execution": {
     "iopub.execute_input": "2022-07-15T16:22:16.632797Z",
     "iopub.status.busy": "2022-07-15T16:22:16.631679Z",
     "iopub.status.idle": "2022-07-15T16:22:16.639793Z",
     "shell.execute_reply": "2022-07-15T16:22:16.638781Z"
    },
    "papermill": {
     "duration": 0.022571,
     "end_time": "2022-07-15T16:22:16.641942",
     "exception": false,
     "start_time": "2022-07-15T16:22:16.619371",
     "status": "completed"
    },
    "tags": []
   },
   "outputs": [
    {
     "data": {
      "text/plain": [
       "<bound method Series.unique of 0         Movie\n",
       "1       TV Show\n",
       "2       TV Show\n",
       "3       TV Show\n",
       "4       TV Show\n",
       "         ...   \n",
       "8802      Movie\n",
       "8803    TV Show\n",
       "8804      Movie\n",
       "8805      Movie\n",
       "8806      Movie\n",
       "Name: type, Length: 8800, dtype: object>"
      ]
     },
     "execution_count": 17,
     "metadata": {},
     "output_type": "execute_result"
    }
   ],
   "source": [
    "netflix.type.unique"
   ]
  },
  {
   "cell_type": "code",
   "execution_count": 18,
   "id": "db582f65",
   "metadata": {
    "execution": {
     "iopub.execute_input": "2022-07-15T16:22:16.665582Z",
     "iopub.status.busy": "2022-07-15T16:22:16.664344Z",
     "iopub.status.idle": "2022-07-15T16:22:16.898634Z",
     "shell.execute_reply": "2022-07-15T16:22:16.897278Z"
    },
    "papermill": {
     "duration": 0.248332,
     "end_time": "2022-07-15T16:22:16.901125",
     "exception": false,
     "start_time": "2022-07-15T16:22:16.652793",
     "status": "completed"
    },
    "scrolled": true,
    "tags": []
   },
   "outputs": [
    {
     "data": {
      "image/png": "[encoded data removed]",
      "text/plain": [
       "<Figure size 720x576 with 1 Axes>"
      ]
     },
     "metadata": {},
     "output_type": "display_data"
    }
   ],
   "source": [
    "plt.figure(figsize=(10, 8))\n",
    "\n",
    "plt.pie(netflix.type.value_counts(), labels = netflix.type.value_counts().index, labeldistance=None, autopct=\"%.1f\",textprops={'fontsize': 14},colors=['lightskyblue', 'lightcoral'])\n",
    "plt.legend()\n",
    "plt.show()"
   ]
  },
  {
   "cell_type": "markdown",
   "id": "993d9d6a",
   "metadata": {
    "papermill": {
     "duration": 0.010531,
     "end_time": "2022-07-15T16:22:16.923319",
     "exception": false,
     "start_time": "2022-07-15T16:22:16.912788",
     "status": "completed"
    },
    "tags": []
   },
   "source": [
    "Result: The number of Movie content on Netflix is 2.33 times the TV Show content."
   ]
  },
  {
   "cell_type": "code",
   "execution_count": 19,
   "id": "cfb1819d",
   "metadata": {
    "execution": {
     "iopub.execute_input": "2022-07-15T16:22:16.950411Z",
     "iopub.status.busy": "2022-07-15T16:22:16.949199Z",
     "iopub.status.idle": "2022-07-15T16:22:16.960910Z",
     "shell.execute_reply": "2022-07-15T16:22:16.959781Z"
    },
    "papermill": {
     "duration": 0.027955,
     "end_time": "2022-07-15T16:22:16.963102",
     "exception": false,
     "start_time": "2022-07-15T16:22:16.935147",
     "status": "completed"
    },
    "tags": []
   },
   "outputs": [
    {
     "data": {
      "text/plain": [
       "Unknown                           2631\n",
       "Rajiv Chilaka                       19\n",
       "Raúl Campos, Jan Suter              18\n",
       "Suhas Kadav                         16\n",
       "Marcus Raboy                        16\n",
       "                                  ... \n",
       "Raymie Muzquiz, Stu Livingston       1\n",
       "Joe Menendez                         1\n",
       "Eric Bross                           1\n",
       "Will Eisenberg                       1\n",
       "Mozez Singh                          1\n",
       "Name: director, Length: 4527, dtype: int64"
      ]
     },
     "execution_count": 19,
     "metadata": {},
     "output_type": "execute_result"
    }
   ],
   "source": [
    " netflix.director.value_counts()"
   ]
  },
  {
   "cell_type": "markdown",
   "id": "8b60a92f",
   "metadata": {
    "papermill": {
     "duration": 0.010154,
     "end_time": "2022-07-15T16:22:16.983906",
     "exception": false,
     "start_time": "2022-07-15T16:22:16.973752",
     "status": "completed"
    },
    "tags": []
   },
   "source": [
    "# Release Year"
   ]
  },
  {
   "cell_type": "code",
   "execution_count": 20,
   "id": "aaf5c0d5",
   "metadata": {
    "execution": {
     "iopub.execute_input": "2022-07-15T16:22:17.007324Z",
     "iopub.status.busy": "2022-07-15T16:22:17.006276Z",
     "iopub.status.idle": "2022-07-15T16:22:17.021709Z",
     "shell.execute_reply": "2022-07-15T16:22:17.020796Z"
    },
    "papermill": {
     "duration": 0.029356,
     "end_time": "2022-07-15T16:22:17.023745",
     "exception": false,
     "start_time": "2022-07-15T16:22:16.994389",
     "status": "completed"
    },
    "scrolled": true,
    "tags": []
   },
   "outputs": [
    {
     "data": {
      "text/html": [
       "<div>\n",
       "<style scoped>\n",
       "    .dataframe tbody tr th:only-of-type {\n",
       "        vertical-align: middle;\n",
       "    }\n",
       "\n",
       "    .dataframe tbody tr th {\n",
       "        vertical-align: top;\n",
       "    }\n",
       "\n",
       "    .dataframe thead th {\n",
       "        text-align: right;\n",
       "    }\n",
       "</style>\n",
       "<table border=\"1\" class=\"dataframe\">\n",
       "  <thead>\n",
       "    <tr style=\"text-align: right;\">\n",
       "      <th></th>\n",
       "      <th>type</th>\n",
       "      <th>release_year</th>\n",
       "    </tr>\n",
       "  </thead>\n",
       "  <tbody>\n",
       "    <tr>\n",
       "      <th>0</th>\n",
       "      <td>Movie</td>\n",
       "      <td>2020</td>\n",
       "    </tr>\n",
       "    <tr>\n",
       "      <th>1</th>\n",
       "      <td>TV Show</td>\n",
       "      <td>2021</td>\n",
       "    </tr>\n",
       "    <tr>\n",
       "      <th>2</th>\n",
       "      <td>TV Show</td>\n",
       "      <td>2021</td>\n",
       "    </tr>\n",
       "    <tr>\n",
       "      <th>3</th>\n",
       "      <td>TV Show</td>\n",
       "      <td>2021</td>\n",
       "    </tr>\n",
       "    <tr>\n",
       "      <th>4</th>\n",
       "      <td>TV Show</td>\n",
       "      <td>2021</td>\n",
       "    </tr>\n",
       "    <tr>\n",
       "      <th>...</th>\n",
       "      <td>...</td>\n",
       "      <td>...</td>\n",
       "    </tr>\n",
       "    <tr>\n",
       "      <th>8798</th>\n",
       "      <td>Movie</td>\n",
       "      <td>2014</td>\n",
       "    </tr>\n",
       "    <tr>\n",
       "      <th>8800</th>\n",
       "      <td>TV Show</td>\n",
       "      <td>2012</td>\n",
       "    </tr>\n",
       "    <tr>\n",
       "      <th>8801</th>\n",
       "      <td>Movie</td>\n",
       "      <td>2015</td>\n",
       "    </tr>\n",
       "    <tr>\n",
       "      <th>8803</th>\n",
       "      <td>TV Show</td>\n",
       "      <td>2018</td>\n",
       "    </tr>\n",
       "    <tr>\n",
       "      <th>8806</th>\n",
       "      <td>Movie</td>\n",
       "      <td>2015</td>\n",
       "    </tr>\n",
       "  </tbody>\n",
       "</table>\n",
       "<p>7087 rows × 2 columns</p>\n",
       "</div>"
      ],
      "text/plain": [
       "         type  release_year\n",
       "0       Movie          2020\n",
       "1     TV Show          2021\n",
       "2     TV Show          2021\n",
       "3     TV Show          2021\n",
       "4     TV Show          2021\n",
       "...       ...           ...\n",
       "8798    Movie          2014\n",
       "8800  TV Show          2012\n",
       "8801    Movie          2015\n",
       "8803  TV Show          2018\n",
       "8806    Movie          2015\n",
       "\n",
       "[7087 rows x 2 columns]"
      ]
     },
     "execution_count": 20,
     "metadata": {},
     "output_type": "execute_result"
    }
   ],
   "source": [
    "last_ten_year=netflix[[\"type\",\"release_year\"]]\n",
    "last_ten_year=last_ten_year[last_ten_year[\"release_year\"] >=2012]\n",
    "last_ten_year"
   ]
  },
  {
   "cell_type": "code",
   "execution_count": 21,
   "id": "bb8c8608",
   "metadata": {
    "execution": {
     "iopub.execute_input": "2022-07-15T16:22:17.048365Z",
     "iopub.status.busy": "2022-07-15T16:22:17.047588Z",
     "iopub.status.idle": "2022-07-15T16:22:17.060373Z",
     "shell.execute_reply": "2022-07-15T16:22:17.059525Z"
    },
    "papermill": {
     "duration": 0.027653,
     "end_time": "2022-07-15T16:22:17.062397",
     "exception": false,
     "start_time": "2022-07-15T16:22:17.034744",
     "status": "completed"
    },
    "tags": []
   },
   "outputs": [
    {
     "data": {
      "text/plain": [
       "release_year  type   \n",
       "2012          Movie      173\n",
       "              TV Show     64\n",
       "2013          Movie      225\n",
       "              TV Show     62\n",
       "2014          Movie      264\n",
       "              TV Show     88\n",
       "2015          Movie      396\n",
       "              TV Show    161\n",
       "2016          Movie      658\n",
       "              TV Show    244\n",
       "2017          Movie      765\n",
       "              TV Show    265\n",
       "2018          Movie      767\n",
       "              TV Show    380\n",
       "2019          Movie      633\n",
       "              TV Show    397\n",
       "2020          Movie      517\n",
       "              TV Show    436\n",
       "2021          TV Show    315\n",
       "              Movie      277\n",
       "Name: type, dtype: int64"
      ]
     },
     "execution_count": 21,
     "metadata": {},
     "output_type": "execute_result"
    }
   ],
   "source": [
    "last_ten_year.groupby(\"release_year\")[\"type\"].value_counts()"
   ]
  },
  {
   "cell_type": "code",
   "execution_count": 22,
   "id": "d81f10a7",
   "metadata": {
    "execution": {
     "iopub.execute_input": "2022-07-15T16:22:17.086751Z",
     "iopub.status.busy": "2022-07-15T16:22:17.086007Z",
     "iopub.status.idle": "2022-07-15T16:22:17.098578Z",
     "shell.execute_reply": "2022-07-15T16:22:17.097365Z"
    },
    "papermill": {
     "duration": 0.027814,
     "end_time": "2022-07-15T16:22:17.101064",
     "exception": false,
     "start_time": "2022-07-15T16:22:17.073250",
     "status": "completed"
    },
    "tags": []
   },
   "outputs": [
    {
     "data": {
      "text/html": [
       "<div>\n",
       "<style scoped>\n",
       "    .dataframe tbody tr th:only-of-type {\n",
       "        vertical-align: middle;\n",
       "    }\n",
       "\n",
       "    .dataframe tbody tr th {\n",
       "        vertical-align: top;\n",
       "    }\n",
       "\n",
       "    .dataframe thead th {\n",
       "        text-align: right;\n",
       "    }\n",
       "</style>\n",
       "<table border=\"1\" class=\"dataframe\">\n",
       "  <thead>\n",
       "    <tr style=\"text-align: right;\">\n",
       "      <th></th>\n",
       "      <th>release_year</th>\n",
       "      <th>type</th>\n",
       "    </tr>\n",
       "  </thead>\n",
       "  <tbody>\n",
       "    <tr>\n",
       "      <th>0</th>\n",
       "      <td>2012</td>\n",
       "      <td>237</td>\n",
       "    </tr>\n",
       "    <tr>\n",
       "      <th>1</th>\n",
       "      <td>2013</td>\n",
       "      <td>287</td>\n",
       "    </tr>\n",
       "    <tr>\n",
       "      <th>2</th>\n",
       "      <td>2014</td>\n",
       "      <td>352</td>\n",
       "    </tr>\n",
       "    <tr>\n",
       "      <th>3</th>\n",
       "      <td>2015</td>\n",
       "      <td>557</td>\n",
       "    </tr>\n",
       "    <tr>\n",
       "      <th>4</th>\n",
       "      <td>2016</td>\n",
       "      <td>902</td>\n",
       "    </tr>\n",
       "    <tr>\n",
       "      <th>5</th>\n",
       "      <td>2017</td>\n",
       "      <td>1030</td>\n",
       "    </tr>\n",
       "    <tr>\n",
       "      <th>6</th>\n",
       "      <td>2018</td>\n",
       "      <td>1147</td>\n",
       "    </tr>\n",
       "    <tr>\n",
       "      <th>7</th>\n",
       "      <td>2019</td>\n",
       "      <td>1030</td>\n",
       "    </tr>\n",
       "    <tr>\n",
       "      <th>8</th>\n",
       "      <td>2020</td>\n",
       "      <td>953</td>\n",
       "    </tr>\n",
       "    <tr>\n",
       "      <th>9</th>\n",
       "      <td>2021</td>\n",
       "      <td>592</td>\n",
       "    </tr>\n",
       "  </tbody>\n",
       "</table>\n",
       "</div>"
      ],
      "text/plain": [
       "   release_year  type\n",
       "0          2012   237\n",
       "1          2013   287\n",
       "2          2014   352\n",
       "3          2015   557\n",
       "4          2016   902\n",
       "5          2017  1030\n",
       "6          2018  1147\n",
       "7          2019  1030\n",
       "8          2020   953\n",
       "9          2021   592"
      ]
     },
     "execution_count": 22,
     "metadata": {},
     "output_type": "execute_result"
    }
   ],
   "source": [
    "last_ten_year_df =last_ten_year.groupby(\"release_year\")[\"type\"].size().reset_index()\n",
    "last_ten_year_df = pd.DataFrame(last_ten_year_df)\n",
    "last_ten_year_df"
   ]
  },
  {
   "cell_type": "code",
   "execution_count": 23,
   "id": "7f0de75c",
   "metadata": {
    "execution": {
     "iopub.execute_input": "2022-07-15T16:22:17.125883Z",
     "iopub.status.busy": "2022-07-15T16:22:17.125126Z",
     "iopub.status.idle": "2022-07-15T16:22:17.131045Z",
     "shell.execute_reply": "2022-07-15T16:22:17.129954Z"
    },
    "papermill": {
     "duration": 0.021367,
     "end_time": "2022-07-15T16:22:17.133616",
     "exception": false,
     "start_time": "2022-07-15T16:22:17.112249",
     "status": "completed"
    },
    "tags": []
   },
   "outputs": [],
   "source": [
    "last_ten_year_df.rename(columns={\"type\" : \"Total Content\"},inplace=True)"
   ]
  },
  {
   "cell_type": "code",
   "execution_count": 24,
   "id": "deb1d3a0",
   "metadata": {
    "execution": {
     "iopub.execute_input": "2022-07-15T16:22:17.158564Z",
     "iopub.status.busy": "2022-07-15T16:22:17.157735Z",
     "iopub.status.idle": "2022-07-15T16:22:17.168064Z",
     "shell.execute_reply": "2022-07-15T16:22:17.166945Z"
    },
    "papermill": {
     "duration": 0.025105,
     "end_time": "2022-07-15T16:22:17.170282",
     "exception": false,
     "start_time": "2022-07-15T16:22:17.145177",
     "status": "completed"
    },
    "tags": []
   },
   "outputs": [
    {
     "data": {
      "text/html": [
       "<div>\n",
       "<style scoped>\n",
       "    .dataframe tbody tr th:only-of-type {\n",
       "        vertical-align: middle;\n",
       "    }\n",
       "\n",
       "    .dataframe tbody tr th {\n",
       "        vertical-align: top;\n",
       "    }\n",
       "\n",
       "    .dataframe thead th {\n",
       "        text-align: right;\n",
       "    }\n",
       "</style>\n",
       "<table border=\"1\" class=\"dataframe\">\n",
       "  <thead>\n",
       "    <tr style=\"text-align: right;\">\n",
       "      <th></th>\n",
       "      <th>release_year</th>\n",
       "      <th>Total Content</th>\n",
       "    </tr>\n",
       "  </thead>\n",
       "  <tbody>\n",
       "    <tr>\n",
       "      <th>0</th>\n",
       "      <td>2012</td>\n",
       "      <td>237</td>\n",
       "    </tr>\n",
       "    <tr>\n",
       "      <th>1</th>\n",
       "      <td>2013</td>\n",
       "      <td>287</td>\n",
       "    </tr>\n",
       "    <tr>\n",
       "      <th>2</th>\n",
       "      <td>2014</td>\n",
       "      <td>352</td>\n",
       "    </tr>\n",
       "    <tr>\n",
       "      <th>3</th>\n",
       "      <td>2015</td>\n",
       "      <td>557</td>\n",
       "    </tr>\n",
       "    <tr>\n",
       "      <th>4</th>\n",
       "      <td>2016</td>\n",
       "      <td>902</td>\n",
       "    </tr>\n",
       "    <tr>\n",
       "      <th>5</th>\n",
       "      <td>2017</td>\n",
       "      <td>1030</td>\n",
       "    </tr>\n",
       "    <tr>\n",
       "      <th>6</th>\n",
       "      <td>2018</td>\n",
       "      <td>1147</td>\n",
       "    </tr>\n",
       "    <tr>\n",
       "      <th>7</th>\n",
       "      <td>2019</td>\n",
       "      <td>1030</td>\n",
       "    </tr>\n",
       "    <tr>\n",
       "      <th>8</th>\n",
       "      <td>2020</td>\n",
       "      <td>953</td>\n",
       "    </tr>\n",
       "    <tr>\n",
       "      <th>9</th>\n",
       "      <td>2021</td>\n",
       "      <td>592</td>\n",
       "    </tr>\n",
       "  </tbody>\n",
       "</table>\n",
       "</div>"
      ],
      "text/plain": [
       "   release_year  Total Content\n",
       "0          2012            237\n",
       "1          2013            287\n",
       "2          2014            352\n",
       "3          2015            557\n",
       "4          2016            902\n",
       "5          2017           1030\n",
       "6          2018           1147\n",
       "7          2019           1030\n",
       "8          2020            953\n",
       "9          2021            592"
      ]
     },
     "execution_count": 24,
     "metadata": {},
     "output_type": "execute_result"
    }
   ],
   "source": [
    "last_ten_year_df"
   ]
  },
  {
   "cell_type": "code",
   "execution_count": 25,
   "id": "8ed875ad",
   "metadata": {
    "execution": {
     "iopub.execute_input": "2022-07-15T16:22:17.195138Z",
     "iopub.status.busy": "2022-07-15T16:22:17.194333Z",
     "iopub.status.idle": "2022-07-15T16:22:17.433607Z",
     "shell.execute_reply": "2022-07-15T16:22:17.431994Z"
    },
    "papermill": {
     "duration": 0.255228,
     "end_time": "2022-07-15T16:22:17.436724",
     "exception": false,
     "start_time": "2022-07-15T16:22:17.181496",
     "status": "completed"
    },
    "tags": []
   },
   "outputs": [
    {
     "data": {
      "text/plain": [
       "''"
      ]
     },
     "execution_count": 25,
     "metadata": {},
     "output_type": "execute_result"
    },
    {
     "data": {
      "image/png": "[encoded data removed]",
      "text/plain": [
       "<Figure size 720x576 with 1 Axes>"
      ]
     },
     "metadata": {
      "needs_background": "light"
     },
     "output_type": "display_data"
    }
   ],
   "source": [
    "plt.figure(figsize=(10,8))\n",
    "sns.countplot(x=\"release_year\", data=last_ten_year, hue=\"type\", palette=\"viridis\")\n",
    ";"
   ]
  },
  {
   "cell_type": "code",
   "execution_count": 26,
   "id": "c5a8dc6d",
   "metadata": {
    "execution": {
     "iopub.execute_input": "2022-07-15T16:22:17.464450Z",
     "iopub.status.busy": "2022-07-15T16:22:17.463806Z",
     "iopub.status.idle": "2022-07-15T16:22:17.642890Z",
     "shell.execute_reply": "2022-07-15T16:22:17.641546Z"
    },
    "papermill": {
     "duration": 0.196002,
     "end_time": "2022-07-15T16:22:17.645679",
     "exception": false,
     "start_time": "2022-07-15T16:22:17.449677",
     "status": "completed"
    },
    "scrolled": true,
    "tags": []
   },
   "outputs": [
    {
     "data": {
      "text/plain": [
       "''"
      ]
     },
     "execution_count": 26,
     "metadata": {},
     "output_type": "execute_result"
    },
    {
     "data": {
      "image/png": "[encoded data removed]",
      "text/plain": [
       "<Figure size 720x576 with 1 Axes>"
      ]
     },
     "metadata": {
      "needs_background": "light"
     },
     "output_type": "display_data"
    }
   ],
   "source": [
    "plt.figure(figsize=(10,8))\n",
    "sns.countplot(x=\"release_year\", data=last_ten_year, palette=\"viridis\")\n",
    ";"
   ]
  },
  {
   "cell_type": "code",
   "execution_count": 27,
   "id": "4fa1163e",
   "metadata": {
    "execution": {
     "iopub.execute_input": "2022-07-15T16:22:17.672768Z",
     "iopub.status.busy": "2022-07-15T16:22:17.672302Z",
     "iopub.status.idle": "2022-07-15T16:22:17.862784Z",
     "shell.execute_reply": "2022-07-15T16:22:17.861565Z"
    },
    "papermill": {
     "duration": 0.207402,
     "end_time": "2022-07-15T16:22:17.865653",
     "exception": false,
     "start_time": "2022-07-15T16:22:17.658251",
     "status": "completed"
    },
    "tags": []
   },
   "outputs": [
    {
     "data": {
      "image/png": "[encoded data removed]",
      "text/plain": [
       "<Figure size 1080x576 with 1 Axes>"
      ]
     },
     "metadata": {
      "needs_background": "light"
     },
     "output_type": "display_data"
    }
   ],
   "source": [
    "plt.figure(figsize=(15, 8))\n",
    "ax = sns.lineplot(x=\"release_year\",y=\"Total Content\",data=last_ten_year_df, linewidth=2.5)\n",
    "ax.set(xlabel='Release Year', ylabel='Total Content', title='Trend of Content Produced over Ten Years on Netflix')\n",
    "plt.show()"
   ]
  },
  {
   "cell_type": "markdown",
   "id": "f3f3a038",
   "metadata": {
    "papermill": {
     "duration": 0.01245,
     "end_time": "2022-07-15T16:22:17.891259",
     "exception": false,
     "start_time": "2022-07-15T16:22:17.878809",
     "status": "completed"
    },
    "tags": []
   },
   "source": [
    " Result : When the last ten years are examined, it is seen that the most popular year of Netflix content is 2018. After 2018, the popularity of netflix content is decreasing."
   ]
  },
  {
   "cell_type": "markdown",
   "id": "b4f5a892",
   "metadata": {
    "papermill": {
     "duration": 0.012365,
     "end_time": "2022-07-15T16:22:17.916748",
     "exception": false,
     "start_time": "2022-07-15T16:22:17.904383",
     "status": "completed"
    },
    "tags": []
   },
   "source": [
    "# Rating"
   ]
  },
  {
   "cell_type": "code",
   "execution_count": 28,
   "id": "90a58886",
   "metadata": {
    "execution": {
     "iopub.execute_input": "2022-07-15T16:22:17.945512Z",
     "iopub.status.busy": "2022-07-15T16:22:17.944728Z",
     "iopub.status.idle": "2022-07-15T16:22:17.953167Z",
     "shell.execute_reply": "2022-07-15T16:22:17.951634Z"
    },
    "papermill": {
     "duration": 0.026921,
     "end_time": "2022-07-15T16:22:17.956250",
     "exception": false,
     "start_time": "2022-07-15T16:22:17.929329",
     "status": "completed"
    },
    "tags": []
   },
   "outputs": [
    {
     "data": {
      "text/plain": [
       "array(['PG-13', 'TV-MA', 'PG', 'TV-14', 'TV-PG', 'TV-Y', 'TV-Y7', 'R',\n",
       "       'TV-G', 'G', 'NC-17', 'NR', 'TV-Y7-FV', 'UR'], dtype=object)"
      ]
     },
     "execution_count": 28,
     "metadata": {},
     "output_type": "execute_result"
    }
   ],
   "source": [
    "netflix.rating.unique()"
   ]
  },
  {
   "cell_type": "code",
   "execution_count": 29,
   "id": "7572edaf",
   "metadata": {
    "execution": {
     "iopub.execute_input": "2022-07-15T16:22:17.984708Z",
     "iopub.status.busy": "2022-07-15T16:22:17.984235Z",
     "iopub.status.idle": "2022-07-15T16:22:18.008555Z",
     "shell.execute_reply": "2022-07-15T16:22:18.007569Z"
    },
    "papermill": {
     "duration": 0.041606,
     "end_time": "2022-07-15T16:22:18.010753",
     "exception": false,
     "start_time": "2022-07-15T16:22:17.969147",
     "status": "completed"
    },
    "tags": []
   },
   "outputs": [
    {
     "data": {
      "text/html": [
       "<div>\n",
       "<style scoped>\n",
       "    .dataframe tbody tr th:only-of-type {\n",
       "        vertical-align: middle;\n",
       "    }\n",
       "\n",
       "    .dataframe tbody tr th {\n",
       "        vertical-align: top;\n",
       "    }\n",
       "\n",
       "    .dataframe thead th {\n",
       "        text-align: right;\n",
       "    }\n",
       "</style>\n",
       "<table border=\"1\" class=\"dataframe\">\n",
       "  <thead>\n",
       "    <tr style=\"text-align: right;\">\n",
       "      <th></th>\n",
       "      <th>show_id</th>\n",
       "      <th>type</th>\n",
       "      <th>title</th>\n",
       "      <th>director</th>\n",
       "      <th>cast</th>\n",
       "      <th>country</th>\n",
       "      <th>date_added</th>\n",
       "      <th>release_year</th>\n",
       "      <th>rating</th>\n",
       "      <th>duration</th>\n",
       "      <th>listed_in</th>\n",
       "      <th>description</th>\n",
       "    </tr>\n",
       "  </thead>\n",
       "  <tbody>\n",
       "    <tr>\n",
       "      <th>0</th>\n",
       "      <td>s1</td>\n",
       "      <td>Movie</td>\n",
       "      <td>Dick Johnson Is Dead</td>\n",
       "      <td>Kirsten Johnson</td>\n",
       "      <td>Unknown</td>\n",
       "      <td>United States</td>\n",
       "      <td>September 25, 2021</td>\n",
       "      <td>2020</td>\n",
       "      <td>Teens</td>\n",
       "      <td>90 min</td>\n",
       "      <td>Documentaries</td>\n",
       "      <td>As her father nears the end of his life, filmm...</td>\n",
       "    </tr>\n",
       "    <tr>\n",
       "      <th>1</th>\n",
       "      <td>s2</td>\n",
       "      <td>TV Show</td>\n",
       "      <td>Blood &amp; Water</td>\n",
       "      <td>Unknown</td>\n",
       "      <td>Ama Qamata, Khosi Ngema, Gail Mabalane, Thaban...</td>\n",
       "      <td>South Africa</td>\n",
       "      <td>September 24, 2021</td>\n",
       "      <td>2021</td>\n",
       "      <td>Mature Audience</td>\n",
       "      <td>2 Seasons</td>\n",
       "      <td>International TV Shows, TV Dramas, TV Mysteries</td>\n",
       "      <td>After crossing paths at a party, a Cape Town t...</td>\n",
       "    </tr>\n",
       "    <tr>\n",
       "      <th>2</th>\n",
       "      <td>s3</td>\n",
       "      <td>TV Show</td>\n",
       "      <td>Ganglands</td>\n",
       "      <td>Julien Leclercq</td>\n",
       "      <td>Sami Bouajila, Tracy Gotoas, Samuel Jouy, Nabi...</td>\n",
       "      <td>Unknown</td>\n",
       "      <td>September 24, 2021</td>\n",
       "      <td>2021</td>\n",
       "      <td>Mature Audience</td>\n",
       "      <td>1 Season</td>\n",
       "      <td>Crime TV Shows, International TV Shows, TV Act...</td>\n",
       "      <td>To protect his family from a powerful drug lor...</td>\n",
       "    </tr>\n",
       "    <tr>\n",
       "      <th>3</th>\n",
       "      <td>s4</td>\n",
       "      <td>TV Show</td>\n",
       "      <td>Jailbirds New Orleans</td>\n",
       "      <td>Unknown</td>\n",
       "      <td>Unknown</td>\n",
       "      <td>Unknown</td>\n",
       "      <td>September 24, 2021</td>\n",
       "      <td>2021</td>\n",
       "      <td>Mature Audience</td>\n",
       "      <td>1 Season</td>\n",
       "      <td>Docuseries, Reality TV</td>\n",
       "      <td>Feuds, flirtations and toilet talk go down amo...</td>\n",
       "    </tr>\n",
       "    <tr>\n",
       "      <th>4</th>\n",
       "      <td>s5</td>\n",
       "      <td>TV Show</td>\n",
       "      <td>Kota Factory</td>\n",
       "      <td>Unknown</td>\n",
       "      <td>Mayur More, Jitendra Kumar, Ranjan Raj, Alam K...</td>\n",
       "      <td>India</td>\n",
       "      <td>September 24, 2021</td>\n",
       "      <td>2021</td>\n",
       "      <td>Mature Audience</td>\n",
       "      <td>2 Seasons</td>\n",
       "      <td>International TV Shows, Romantic TV Shows, TV ...</td>\n",
       "      <td>In a city of coaching centers known to train I...</td>\n",
       "    </tr>\n",
       "  </tbody>\n",
       "</table>\n",
       "</div>"
      ],
      "text/plain": [
       "  show_id     type                  title         director  \\\n",
       "0      s1    Movie   Dick Johnson Is Dead  Kirsten Johnson   \n",
       "1      s2  TV Show          Blood & Water          Unknown   \n",
       "2      s3  TV Show              Ganglands  Julien Leclercq   \n",
       "3      s4  TV Show  Jailbirds New Orleans          Unknown   \n",
       "4      s5  TV Show           Kota Factory          Unknown   \n",
       "\n",
       "                                                cast        country  \\\n",
       "0                                            Unknown  United States   \n",
       "1  Ama Qamata, Khosi Ngema, Gail Mabalane, Thaban...   South Africa   \n",
       "2  Sami Bouajila, Tracy Gotoas, Samuel Jouy, Nabi...        Unknown   \n",
       "3                                            Unknown        Unknown   \n",
       "4  Mayur More, Jitendra Kumar, Ranjan Raj, Alam K...          India   \n",
       "\n",
       "           date_added  release_year           rating   duration  \\\n",
       "0  September 25, 2021          2020            Teens     90 min   \n",
       "1  September 24, 2021          2021  Mature Audience  2 Seasons   \n",
       "2  September 24, 2021          2021  Mature Audience   1 Season   \n",
       "3  September 24, 2021          2021  Mature Audience   1 Season   \n",
       "4  September 24, 2021          2021  Mature Audience  2 Seasons   \n",
       "\n",
       "                                           listed_in  \\\n",
       "0                                      Documentaries   \n",
       "1    International TV Shows, TV Dramas, TV Mysteries   \n",
       "2  Crime TV Shows, International TV Shows, TV Act...   \n",
       "3                             Docuseries, Reality TV   \n",
       "4  International TV Shows, Romantic TV Shows, TV ...   \n",
       "\n",
       "                                         description  \n",
       "0  As her father nears the end of his life, filmm...  \n",
       "1  After crossing paths at a party, a Cape Town t...  \n",
       "2  To protect his family from a powerful drug lor...  \n",
       "3  Feuds, flirtations and toilet talk go down amo...  \n",
       "4  In a city of coaching centers known to train I...  "
      ]
     },
     "execution_count": 29,
     "metadata": {},
     "output_type": "execute_result"
    }
   ],
   "source": [
    "new_categories = {\n",
    "    'TV-PG': 'Parental Guidance',\n",
    "    'TV-MA': 'Mature Audience',\n",
    "    'TV-Y7-FV': 'Teens',\n",
    "    'TV-Y7': 'Teens',\n",
    "    'TV-14': 'Teens',\n",
    "    'R': 'Mature Audience',\n",
    "    'TV-Y': 'General Audience',\n",
    "    'NR': 'Mature Audience',\n",
    "    'PG-13': 'Teens',\n",
    "    'TV-G': 'General Audience',\n",
    "    'PG': 'Teens',\n",
    "    'G': 'General Audience',\n",
    "    'UR': 'Mature Audience',\n",
    "    'NC-17': 'Mature Audience'\n",
    "}\n",
    "netflix[\"rating\"] = netflix['rating'].replace(new_categories)\n",
    "netflix.head()"
   ]
  },
  {
   "cell_type": "code",
   "execution_count": 30,
   "id": "9d77445c",
   "metadata": {
    "execution": {
     "iopub.execute_input": "2022-07-15T16:22:18.039586Z",
     "iopub.status.busy": "2022-07-15T16:22:18.038540Z",
     "iopub.status.idle": "2022-07-15T16:22:18.197931Z",
     "shell.execute_reply": "2022-07-15T16:22:18.196214Z"
    },
    "papermill": {
     "duration": 0.177218,
     "end_time": "2022-07-15T16:22:18.201201",
     "exception": false,
     "start_time": "2022-07-15T16:22:18.023983",
     "status": "completed"
    },
    "tags": []
   },
   "outputs": [
    {
     "data": {
      "image/png": "[encoded data removed]",
      "text/plain": [
       "<Figure size 864x576 with 1 Axes>"
      ]
     },
     "metadata": {
      "needs_background": "light"
     },
     "output_type": "display_data"
    }
   ],
   "source": [
    "plt.figure(figsize=(12,8))\n",
    "sns.countplot(x=\"rating\",data=netflix,palette=\"viridis\")\n",
    "plt.title(\"Count of Rating by Movie and Shows\");"
   ]
  },
  {
   "cell_type": "markdown",
   "id": "d82592c6",
   "metadata": {
    "papermill": {
     "duration": 0.013572,
     "end_time": "2022-07-15T16:22:18.228821",
     "exception": false,
     "start_time": "2022-07-15T16:22:18.215249",
     "status": "completed"
    },
    "tags": []
   },
   "source": [
    "It has been observed that Netflix has the most content for Mature Audience."
   ]
  },
  {
   "cell_type": "markdown",
   "id": "49e78550",
   "metadata": {
    "papermill": {
     "duration": 0.013802,
     "end_time": "2022-07-15T16:22:18.256116",
     "exception": false,
     "start_time": "2022-07-15T16:22:18.242314",
     "status": "completed"
    },
    "tags": []
   },
   "source": [
    "# Countries"
   ]
  },
  {
   "cell_type": "code",
   "execution_count": 31,
   "id": "f0b2e03b",
   "metadata": {
    "execution": {
     "iopub.execute_input": "2022-07-15T16:22:18.285774Z",
     "iopub.status.busy": "2022-07-15T16:22:18.284891Z",
     "iopub.status.idle": "2022-07-15T16:22:18.298345Z",
     "shell.execute_reply": "2022-07-15T16:22:18.297184Z"
    },
    "papermill": {
     "duration": 0.030827,
     "end_time": "2022-07-15T16:22:18.300723",
     "exception": false,
     "start_time": "2022-07-15T16:22:18.269896",
     "status": "completed"
    },
    "tags": []
   },
   "outputs": [
    {
     "data": {
      "text/html": [
       "<div>\n",
       "<style scoped>\n",
       "    .dataframe tbody tr th:only-of-type {\n",
       "        vertical-align: middle;\n",
       "    }\n",
       "\n",
       "    .dataframe tbody tr th {\n",
       "        vertical-align: top;\n",
       "    }\n",
       "\n",
       "    .dataframe thead th {\n",
       "        text-align: right;\n",
       "    }\n",
       "</style>\n",
       "<table border=\"1\" class=\"dataframe\">\n",
       "  <thead>\n",
       "    <tr style=\"text-align: right;\">\n",
       "      <th></th>\n",
       "      <th>country</th>\n",
       "    </tr>\n",
       "  </thead>\n",
       "  <tbody>\n",
       "    <tr>\n",
       "      <th>United States</th>\n",
       "      <td>2815</td>\n",
       "    </tr>\n",
       "    <tr>\n",
       "      <th>India</th>\n",
       "      <td>972</td>\n",
       "    </tr>\n",
       "    <tr>\n",
       "      <th>Unknown</th>\n",
       "      <td>830</td>\n",
       "    </tr>\n",
       "    <tr>\n",
       "      <th>United Kingdom</th>\n",
       "      <td>419</td>\n",
       "    </tr>\n",
       "    <tr>\n",
       "      <th>Japan</th>\n",
       "      <td>244</td>\n",
       "    </tr>\n",
       "    <tr>\n",
       "      <th>South Korea</th>\n",
       "      <td>199</td>\n",
       "    </tr>\n",
       "    <tr>\n",
       "      <th>Canada</th>\n",
       "      <td>181</td>\n",
       "    </tr>\n",
       "    <tr>\n",
       "      <th>Spain</th>\n",
       "      <td>145</td>\n",
       "    </tr>\n",
       "    <tr>\n",
       "      <th>France</th>\n",
       "      <td>124</td>\n",
       "    </tr>\n",
       "    <tr>\n",
       "      <th>Mexico</th>\n",
       "      <td>110</td>\n",
       "    </tr>\n",
       "    <tr>\n",
       "      <th>Egypt</th>\n",
       "      <td>106</td>\n",
       "    </tr>\n",
       "    <tr>\n",
       "      <th>Turkey</th>\n",
       "      <td>105</td>\n",
       "    </tr>\n",
       "    <tr>\n",
       "      <th>Nigeria</th>\n",
       "      <td>95</td>\n",
       "    </tr>\n",
       "    <tr>\n",
       "      <th>Australia</th>\n",
       "      <td>86</td>\n",
       "    </tr>\n",
       "    <tr>\n",
       "      <th>Taiwan</th>\n",
       "      <td>81</td>\n",
       "    </tr>\n",
       "  </tbody>\n",
       "</table>\n",
       "</div>"
      ],
      "text/plain": [
       "                country\n",
       "United States      2815\n",
       "India               972\n",
       "Unknown             830\n",
       "United Kingdom      419\n",
       "Japan               244\n",
       "South Korea         199\n",
       "Canada              181\n",
       "Spain               145\n",
       "France              124\n",
       "Mexico              110\n",
       "Egypt               106\n",
       "Turkey              105\n",
       "Nigeria              95\n",
       "Australia            86\n",
       "Taiwan               81"
      ]
     },
     "execution_count": 31,
     "metadata": {},
     "output_type": "execute_result"
    }
   ],
   "source": [
    "Top_15_Country=netflix.country.value_counts().head(15)\n",
    "Top_15_Country = pd.DataFrame(Top_15_Country)\n",
    "Top_15_Country"
   ]
  },
  {
   "cell_type": "code",
   "execution_count": 32,
   "id": "f1022203",
   "metadata": {
    "execution": {
     "iopub.execute_input": "2022-07-15T16:22:18.330216Z",
     "iopub.status.busy": "2022-07-15T16:22:18.329386Z",
     "iopub.status.idle": "2022-07-15T16:22:18.661162Z",
     "shell.execute_reply": "2022-07-15T16:22:18.659897Z"
    },
    "papermill": {
     "duration": 0.34979,
     "end_time": "2022-07-15T16:22:18.664094",
     "exception": false,
     "start_time": "2022-07-15T16:22:18.314304",
     "status": "completed"
    },
    "scrolled": true,
    "tags": []
   },
   "outputs": [
    {
     "data": {
      "image/png": "[encoded data removed]",
      "text/plain": [
       "<Figure size 1080x576 with 1 Axes>"
      ]
     },
     "metadata": {
      "needs_background": "light"
     },
     "output_type": "display_data"
    }
   ],
   "source": [
    "plt.figure(figsize=(15,8))\n",
    "\n",
    "ax=sns.barplot(x=netflix.country.value_counts()[:15].index , y=netflix.country.value_counts()[:15].values )\n",
    "ax.set_xticklabels(netflix.country.value_counts()[:15].index,rotation=45)\n",
    "for i in ax.containers:\n",
    "    ax.bar_label(i);"
   ]
  },
  {
   "cell_type": "markdown",
   "id": "6428d4a3",
   "metadata": {
    "papermill": {
     "duration": 0.014461,
     "end_time": "2022-07-15T16:22:18.693203",
     "exception": false,
     "start_time": "2022-07-15T16:22:18.678742",
     "status": "completed"
    },
    "tags": []
   },
   "source": [
    "Result: While the most content is produced in the USA, India follows in the second country."
   ]
  },
  {
   "cell_type": "markdown",
   "id": "a76571be",
   "metadata": {
    "papermill": {
     "duration": 0.014483,
     "end_time": "2022-07-15T16:22:18.723261",
     "exception": false,
     "start_time": "2022-07-15T16:22:18.708778",
     "status": "completed"
    },
    "tags": []
   },
   "source": [
    "# Duration"
   ]
  },
  {
   "cell_type": "code",
   "execution_count": 33,
   "id": "3ca8bf2e",
   "metadata": {
    "execution": {
     "iopub.execute_input": "2022-07-15T16:22:18.756276Z",
     "iopub.status.busy": "2022-07-15T16:22:18.755553Z",
     "iopub.status.idle": "2022-07-15T16:22:18.771373Z",
     "shell.execute_reply": "2022-07-15T16:22:18.770521Z"
    },
    "papermill": {
     "duration": 0.0356,
     "end_time": "2022-07-15T16:22:18.774028",
     "exception": false,
     "start_time": "2022-07-15T16:22:18.738428",
     "status": "completed"
    },
    "tags": []
   },
   "outputs": [],
   "source": [
    "df2 = netflix.copy()\n",
    "df2.duration = df2.duration.apply(lambda x :int(x.split()[0]))\n"
   ]
  },
  {
   "cell_type": "code",
   "execution_count": 34,
   "id": "97408640",
   "metadata": {
    "execution": {
     "iopub.execute_input": "2022-07-15T16:22:18.804818Z",
     "iopub.status.busy": "2022-07-15T16:22:18.804038Z",
     "iopub.status.idle": "2022-07-15T16:22:18.823170Z",
     "shell.execute_reply": "2022-07-15T16:22:18.821561Z"
    },
    "papermill": {
     "duration": 0.037927,
     "end_time": "2022-07-15T16:22:18.826046",
     "exception": false,
     "start_time": "2022-07-15T16:22:18.788119",
     "status": "completed"
    },
    "tags": []
   },
   "outputs": [],
   "source": [
    "Movie = df2[df2.type == 'Movie']\n",
    "Tv_show = df2[df2.type == 'TV Show']\n",
    "\n",
    "Movie_df = Movie.sort_values(by = 'duration', ascending=False)[['title', 'duration']].head(10)\n",
    "\n",
    "Tv_show_df = Tv_show.sort_values(by = 'duration', ascending=False)[['title', 'duration']].head(10)"
   ]
  },
  {
   "cell_type": "code",
   "execution_count": 36,
   "id": "b0bd8a43",
   "metadata": {
    "execution": {
     "iopub.execute_input": "2022-07-15T16:22:19.540945Z",
     "iopub.status.busy": "2022-07-15T16:22:19.540522Z",
     "iopub.status.idle": "2022-07-15T16:22:19.550635Z",
     "shell.execute_reply": "2022-07-15T16:22:19.549707Z"
    },
    "papermill": {
     "duration": 0.03084,
     "end_time": "2022-07-15T16:22:19.552568",
     "exception": false,
     "start_time": "2022-07-15T16:22:19.521728",
     "status": "completed"
    },
    "tags": []
   },
   "outputs": [
    {
     "data": {
      "text/html": [
       "<div>\n",
       "<style scoped>\n",
       "    .dataframe tbody tr th:only-of-type {\n",
       "        vertical-align: middle;\n",
       "    }\n",
       "\n",
       "    .dataframe tbody tr th {\n",
       "        vertical-align: top;\n",
       "    }\n",
       "\n",
       "    .dataframe thead th {\n",
       "        text-align: right;\n",
       "    }\n",
       "</style>\n",
       "<table border=\"1\" class=\"dataframe\">\n",
       "  <thead>\n",
       "    <tr style=\"text-align: right;\">\n",
       "      <th></th>\n",
       "      <th>title</th>\n",
       "      <th>duration</th>\n",
       "    </tr>\n",
       "  </thead>\n",
       "  <tbody>\n",
       "    <tr>\n",
       "      <th>4253</th>\n",
       "      <td>Black Mirror: Bandersnatch</td>\n",
       "      <td>312</td>\n",
       "    </tr>\n",
       "    <tr>\n",
       "      <th>717</th>\n",
       "      <td>Headspace: Unwind Your Mind</td>\n",
       "      <td>273</td>\n",
       "    </tr>\n",
       "    <tr>\n",
       "      <th>2491</th>\n",
       "      <td>The School of Mischief</td>\n",
       "      <td>253</td>\n",
       "    </tr>\n",
       "    <tr>\n",
       "      <th>2487</th>\n",
       "      <td>No Longer kids</td>\n",
       "      <td>237</td>\n",
       "    </tr>\n",
       "    <tr>\n",
       "      <th>2484</th>\n",
       "      <td>Lock Your Girls In</td>\n",
       "      <td>233</td>\n",
       "    </tr>\n",
       "    <tr>\n",
       "      <th>2488</th>\n",
       "      <td>Raya and Sakina</td>\n",
       "      <td>230</td>\n",
       "    </tr>\n",
       "    <tr>\n",
       "      <th>166</th>\n",
       "      <td>Once Upon a Time in America</td>\n",
       "      <td>229</td>\n",
       "    </tr>\n",
       "    <tr>\n",
       "      <th>7932</th>\n",
       "      <td>Sangam</td>\n",
       "      <td>228</td>\n",
       "    </tr>\n",
       "    <tr>\n",
       "      <th>1019</th>\n",
       "      <td>Lagaan</td>\n",
       "      <td>224</td>\n",
       "    </tr>\n",
       "    <tr>\n",
       "      <th>4573</th>\n",
       "      <td>Jodhaa Akbar</td>\n",
       "      <td>214</td>\n",
       "    </tr>\n",
       "  </tbody>\n",
       "</table>\n",
       "</div>"
      ],
      "text/plain": [
       "                            title  duration\n",
       "4253   Black Mirror: Bandersnatch       312\n",
       "717   Headspace: Unwind Your Mind       273\n",
       "2491       The School of Mischief       253\n",
       "2487               No Longer kids       237\n",
       "2484           Lock Your Girls In       233\n",
       "2488              Raya and Sakina       230\n",
       "166   Once Upon a Time in America       229\n",
       "7932                       Sangam       228\n",
       "1019                       Lagaan       224\n",
       "4573                 Jodhaa Akbar       214"
      ]
     },
     "execution_count": 36,
     "metadata": {},
     "output_type": "execute_result"
    }
   ],
   "source": [
    "Movie_df"
   ]
  },
  {
   "cell_type": "code",
   "execution_count": 37,
   "id": "ff07640f",
   "metadata": {
    "execution": {
     "iopub.execute_input": "2022-07-15T16:22:19.589788Z",
     "iopub.status.busy": "2022-07-15T16:22:19.589325Z",
     "iopub.status.idle": "2022-07-15T16:22:19.902547Z",
     "shell.execute_reply": "2022-07-15T16:22:19.901130Z"
    },
    "papermill": {
     "duration": 0.335324,
     "end_time": "2022-07-15T16:22:19.905064",
     "exception": false,
     "start_time": "2022-07-15T16:22:19.569740",
     "status": "completed"
    },
    "scrolled": true,
    "tags": []
   },
   "outputs": [
    {
     "data": {
      "image/png": "[encoded data removed]",
      "text/plain": [
       "<Figure size 1080x576 with 1 Axes>"
      ]
     },
     "metadata": {
      "needs_background": "light"
     },
     "output_type": "display_data"
    }
   ],
   "source": [
    "plt.figure(figsize=(15, 8))\n",
    "ax=sns.barplot(x=Movie_df.title,y=Movie_df.duration,palette=\"viridis\")\n",
    "ax.set_xticklabels(Movie_df.title,rotation=90)\n",
    "\n",
    "for i in ax.containers:\n",
    "    ax.bar_label(i)\n",
    "plt.title(\"Duration of Top 10 Netflix Movies\");"
   ]
  },
  {
   "cell_type": "markdown",
   "id": "e3b95d5b",
   "metadata": {
    "papermill": {
     "duration": 0.017236,
     "end_time": "2022-07-15T16:22:19.939891",
     "exception": false,
     "start_time": "2022-07-15T16:22:19.922655",
     "status": "completed"
    },
    "tags": []
   },
   "source": [
    "Result: The longest movie is Black Mirror: Bandersnatch with 312 minutes."
   ]
  },
  {
   "cell_type": "code",
   "execution_count": 38,
   "id": "87a75eab",
   "metadata": {
    "execution": {
     "iopub.execute_input": "2022-07-15T16:22:19.976958Z",
     "iopub.status.busy": "2022-07-15T16:22:19.976517Z",
     "iopub.status.idle": "2022-07-15T16:22:20.272539Z",
     "shell.execute_reply": "2022-07-15T16:22:20.271572Z"
    },
    "papermill": {
     "duration": 0.31768,
     "end_time": "2022-07-15T16:22:20.274933",
     "exception": false,
     "start_time": "2022-07-15T16:22:19.957253",
     "status": "completed"
    },
    "tags": []
   },
   "outputs": [
    {
     "data": {
      "image/png": "[encoded data removed]",
      "text/plain": [
       "<Figure size 1080x576 with 1 Axes>"
      ]
     },
     "metadata": {
      "needs_background": "light"
     },
     "output_type": "display_data"
    }
   ],
   "source": [
    "plt.figure(figsize=(15, 8))\n",
    "ax=sns.barplot(x=Tv_show_df.title,y=Tv_show_df.duration,palette=\"viridis\")\n",
    "ax.set_xticklabels(Tv_show_df.title,rotation=90)\n",
    "\n",
    "for i in ax.containers:\n",
    "    ax.bar_label(i)\n",
    "plt.title(\"Duration of Top 10 Netflix Tv Shows\");"
   ]
  },
  {
   "cell_type": "markdown",
   "id": "a61e2c8d",
   "metadata": {
    "papermill": {
     "duration": 0.017539,
     "end_time": "2022-07-15T16:22:20.310695",
     "exception": false,
     "start_time": "2022-07-15T16:22:20.293156",
     "status": "completed"
    },
    "tags": []
   },
   "source": [
    "Result: The longest-running series is a with 17 seasons."
   ]
  }
 ],
 "metadata": {
  "kernelspec": {
   "display_name": "Python 3.8.13 ('PRACTICE')",
   "language": "python",
   "name": "python3"
  },
  "language_info": {
   "codemirror_mode": {
    "name": "ipython",
    "version": 3
   },
   "file_extension": ".py",
   "mimetype": "text/x-python",
   "name": "python",
   "nbconvert_exporter": "python",
   "pygments_lexer": "ipython3",
   "version": "3.8.13"
  },
  "papermill": {
   "default_parameters": {},
   "duration": 16.89764,
   "end_time": "2022-07-15T16:22:21.354047",
   "environment_variables": {},
   "exception": null,
   "input_path": "__notebook__.ipynb",
   "output_path": "__notebook__.ipynb",
   "parameters": {},
   "start_time": "2022-07-15T16:22:04.456407",
   "version": "2.3.4"
  },
  "vscode": {
   "interpreter": {
    "hash": "9368f1fe48868d02b9ece590d62e11ea309a43dd84bc8a60d61422806ba6d1c4"
   }
  }
 },
 "nbformat": 4,
 "nbformat_minor": 5
}
